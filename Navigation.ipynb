{
 "cells": [
  {
   "cell_type": "markdown",
   "metadata": {},
   "source": [
    "# Setting Up - Install Packages in the Workspace\n",
    "Before you move on to the project instruction, follow the cells below to ensure you have the necessary packages installed. \n",
    "The cells below will also educate you on installing newer pinned packages, should you need them in the future. "
   ]
  },
  {
   "cell_type": "code",
   "execution_count": 1,
   "metadata": {},
   "outputs": [],
   "source": [
    "# Step 1. Update the PATH env var. \n",
    "import os\n",
    "os.environ['PATH'] = f\"{os.environ['PATH']}:/home/student/.local/bin\"\n",
    "os.environ['PATH'] = f\"{os.environ['PATH']}:/opt/conda/lib/python3.10/site-packages\"\n",
    "os.environ['PROTOCOL_BUFFERS_PYTHON_IMPLEMENTATION'] = 'python'"
   ]
  },
  {
   "cell_type": "code",
   "execution_count": 2,
   "metadata": {},
   "outputs": [
    {
     "name": "stdout",
     "output_type": "stream",
     "text": [
      "numpy @ file:///work/mkl/numpy_and_numpy_base_1682953417311/work\r\n"
     ]
    }
   ],
   "source": [
    "# Check the version of any specific package\n",
    "!python -m pip freeze | grep numpy"
   ]
  },
  {
   "cell_type": "markdown",
   "metadata": {},
   "source": [
    "# Navigation\n",
    "\n",
    "---\n",
    "\n",
    "You are welcome to use this coding environment to train your agent for the project.  Follow the instructions below to get started!\n",
    "\n",
    "### 1. Start the Environment\n",
    "\n",
    "Run the next code cell to install a few packages.  This line will take a few minutes to run!"
   ]
  },
  {
   "cell_type": "code",
   "execution_count": 3,
   "metadata": {},
   "outputs": [],
   "source": [
    "!pip -q install ."
   ]
  },
  {
   "cell_type": "markdown",
   "metadata": {},
   "source": [
    "The environment is already saved in the Workspace and can be accessed at the file path provided below.  Please run the next code cell without making any changes."
   ]
  },
  {
   "cell_type": "code",
   "execution_count": null,
   "metadata": {},
   "outputs": [],
   "source": [
    "# Restart the Kernel. \n",
    "# If you skip this step, your notebook may not be able to import the packages well. \n"
   ]
  },
  {
   "cell_type": "code",
   "execution_count": 1,
   "metadata": {},
   "outputs": [
    {
     "name": "stdout",
     "output_type": "stream",
     "text": [
      "Found path: /data/Banana_Linux_NoVis/Banana.x86_64\n",
      "Mono path[0] = '/data/Banana_Linux_NoVis/Banana_Data/Managed'\n",
      "Mono config path = '/data/Banana_Linux_NoVis/Banana_Data/MonoBleedingEdge/etc'\n",
      "Preloaded 'libgrpc_csharp_ext.x64.so'\n",
      "Unable to preload the following plugins:\n",
      "\tlibgrpc_csharp_ext.x86.so\n",
      "Logging to /home/student/.config/unity3d/Unity Technologies/Unity Environment/Player.log\n"
     ]
    },
    {
     "name": "stderr",
     "output_type": "stream",
     "text": [
      "INFO:unityagents:\n",
      "'Academy' started successfully!\n",
      "Unity Academy name: Academy\n",
      "        Number of Brains: 1\n",
      "        Number of External Brains : 1\n",
      "        Lesson number : 0\n",
      "        Reset Parameters :\n",
      "\t\t\n",
      "Unity brain name: BananaBrain\n",
      "        Number of Visual Observations (per agent): 0\n",
      "        Vector Observation space type: continuous\n",
      "        Vector Observation space size (per agent): 37\n",
      "        Number of stacked Vector Observation: 1\n",
      "        Vector Action space type: discrete\n",
      "        Vector Action space size (per agent): 4\n",
      "        Vector Action descriptions: , , , \n"
     ]
    }
   ],
   "source": [
    "from unityagents import UnityEnvironment\n",
    "import numpy as np\n",
    "\n",
    "# please do not modify the line below\n",
    "env = UnityEnvironment(file_name=\"/data/Banana_Linux_NoVis/Banana.x86_64\")"
   ]
  },
  {
   "cell_type": "markdown",
   "metadata": {},
   "source": [
    "Environments contain **_brains_** which are responsible for deciding the actions of their associated agents. Here we check for the first brain available, and set it as the default brain we will be controlling from Python."
   ]
  },
  {
   "cell_type": "code",
   "execution_count": 2,
   "metadata": {},
   "outputs": [],
   "source": [
    "# get the default brain\n",
    "brain_name = env.brain_names[0]\n",
    "brain = env.brains[brain_name]"
   ]
  },
  {
   "cell_type": "markdown",
   "metadata": {},
   "source": [
    "### 2. Examine the State and Action Spaces\n",
    "\n",
    "Run the code cell below to print some information about the environment."
   ]
  },
  {
   "cell_type": "code",
   "execution_count": 3,
   "metadata": {},
   "outputs": [
    {
     "name": "stdout",
     "output_type": "stream",
     "text": [
      "Number of agents: 1\n",
      "Number of actions: 4\n",
      "States look like: [1.         0.         0.         0.         0.84408134 0.\n",
      " 0.         1.         0.         0.0748472  0.         1.\n",
      " 0.         0.         0.25755    1.         0.         0.\n",
      " 0.         0.74177343 0.         1.         0.         0.\n",
      " 0.25854847 0.         0.         1.         0.         0.09355672\n",
      " 0.         1.         0.         0.         0.31969345 0.\n",
      " 0.        ]\n",
      "States have length: 37\n"
     ]
    }
   ],
   "source": [
    "# reset the environment\n",
    "env_info = env.reset(train_mode=True)[brain_name]\n",
    "\n",
    "# number of agents in the environment\n",
    "print('Number of agents:', len(env_info.agents))\n",
    "\n",
    "# number of actions\n",
    "action_size = brain.vector_action_space_size\n",
    "print('Number of actions:', action_size)\n",
    "\n",
    "# examine the state space \n",
    "state = env_info.vector_observations[0]\n",
    "print('States look like:', state)\n",
    "state_size = len(state)\n",
    "print('States have length:', state_size)"
   ]
  },
  {
   "cell_type": "markdown",
   "metadata": {},
   "source": [
    "### 3. Take Random Actions in the Environment\n",
    "\n",
    "In the next code cell, you will learn how to use the Python API to control the agent and receive feedback from the environment.\n",
    "\n",
    "Note that **in this coding environment, you will not be able to watch the agent while it is training**, and you should set `train_mode=True` to restart the environment."
   ]
  },
  {
   "cell_type": "code",
   "execution_count": 4,
   "metadata": {},
   "outputs": [
    {
     "name": "stdout",
     "output_type": "stream",
     "text": [
      "Score: 0.0\n"
     ]
    }
   ],
   "source": [
    "env_info = env.reset(train_mode=True)[brain_name] # reset the environment\n",
    "state = env_info.vector_observations[0]            # get the current state\n",
    "score = 0                                          # initialize the score\n",
    "while True:\n",
    "    action = np.random.randint(action_size)        # select an action\n",
    "    env_info = env.step(action)[brain_name]        # send the action to the environment\n",
    "    next_state = env_info.vector_observations[0]   # get the next state\n",
    "    reward = env_info.rewards[0]                   # get the reward\n",
    "    done = env_info.local_done[0]                  # see if episode has finished\n",
    "    score += reward                                # update the score\n",
    "    state = next_state                             # roll over the state to next time step\n",
    "    if done:                                       # exit loop if episode finished\n",
    "        break\n",
    "    \n",
    "print(\"Score: {}\".format(score))"
   ]
  },
  {
   "cell_type": "markdown",
   "metadata": {},
   "source": [
    "When finished, you can close the environment."
   ]
  },
  {
   "cell_type": "code",
   "execution_count": 5,
   "metadata": {},
   "outputs": [],
   "source": [
    "env.close()"
   ]
  },
  {
   "cell_type": "markdown",
   "metadata": {},
   "source": [
    "### 4. It's Your Turn!\n",
    "\n",
    "Now it's your turn to train your own agent to solve the environment!  A few **important notes**:\n",
    "- When training the environment, set `train_mode=True`, so that the line for resetting the environment looks like the following:\n",
    "```python\n",
    "env_info = env.reset(train_mode=True)[brain_name]\n",
    "```\n",
    "- To structure your work, you're welcome to work directly in this Jupyter notebook, or you might like to start over with a new file!  You can see the list of files in the workspace by clicking on **_Jupyter_** in the top left corner of the notebook.\n",
    "- In this coding environment, you will not be able to watch the agent while it is training.  However, **_after training the agent_**, you can download the saved model weights to watch the agent on your own machine! "
   ]
  },
  {
   "cell_type": "markdown",
   "metadata": {},
   "source": [
    "### Import libraries"
   ]
  },
  {
   "cell_type": "code",
   "execution_count": 4,
   "metadata": {},
   "outputs": [],
   "source": [
    "import random\n",
    "import torch\n",
    "import numpy as np\n",
    "from collections import deque\n",
    "import matplotlib.pyplot as plt\n",
    "import os\n",
    "import numpy as np\n",
    "%matplotlib inline\n",
    "\n",
    "\n",
    "from IPython import display"
   ]
  },
  {
   "cell_type": "markdown",
   "metadata": {},
   "source": [
    "# Restart the kernal before running the below"
   ]
  },
  {
   "cell_type": "markdown",
   "metadata": {},
   "source": [
    "### Import the agent class, the environment, and create instances of them"
   ]
  },
  {
   "cell_type": "code",
   "execution_count": 5,
   "metadata": {},
   "outputs": [],
   "source": [
    "from dqn_agent import Agent # Import the agent class\n",
    "from unityagents import UnityEnvironment # Import the environment\n",
    "\n",
    "# create the enviroment\n",
    "env = UnityEnvironment(file_name=\"/data/Banana_Linux_NoVis/Banana.x86_64\")\n",
    "\n",
    "# get the default brain\n",
    "brain_name = env.brain_names[0]\n",
    "brain = env.brains[brain_name]\n",
    "\n",
    "# reset the environment\n",
    "env_info = env.reset(train_mode=True)[brain_name]\n",
    "\n",
    "# Number of actions\n",
    "action_size = brain.vector_action_space_size\n",
    "# Number of dimensions in state\n",
    "state_size = len(env_info.vector_observations[0])\n",
    "\n",
    "# create an instance of the environment\n",
    "agent = Agent(state_size=state_size, action_size=action_size, seed=0)"
   ]
  },
  {
   "cell_type": "code",
   "execution_count": 6,
   "metadata": {
    "collapsed": true
   },
   "outputs": [
    {
     "ename": "NameError",
     "evalue": "name 'deque' is not defined",
     "output_type": "error",
     "traceback": [
      "\u001b[0;31m---------------------------------------------------------------------------\u001b[0m",
      "\u001b[0;31mNameError\u001b[0m                                 Traceback (most recent call last)",
      "Cell \u001b[0;32mIn[6], line 54\u001b[0m\n\u001b[1;32m     51\u001b[0m             \u001b[38;5;28;01mbreak\u001b[39;00m\n\u001b[1;32m     52\u001b[0m     \u001b[38;5;28;01mreturn\u001b[39;00m scores\n\u001b[0;32m---> 54\u001b[0m scores \u001b[38;5;241m=\u001b[39m \u001b[43mdqn\u001b[49m\u001b[43m(\u001b[49m\u001b[43m)\u001b[49m \u001b[38;5;66;03m# Run the training process\u001b[39;00m\n\u001b[1;32m     56\u001b[0m \u001b[38;5;66;03m# plot the scores\u001b[39;00m\n\u001b[1;32m     57\u001b[0m fig \u001b[38;5;241m=\u001b[39m plt\u001b[38;5;241m.\u001b[39mfigure()\n",
      "Cell \u001b[0;32mIn[6], line 13\u001b[0m, in \u001b[0;36mdqn\u001b[0;34m(n_episodes, max_t, eps_start, eps_end, eps_decay)\u001b[0m\n\u001b[1;32m      2\u001b[0m \u001b[38;5;250m\u001b[39m\u001b[38;5;124;03m\"\"\"Deep Q-Learning.\u001b[39;00m\n\u001b[1;32m      3\u001b[0m \u001b[38;5;124;03m\u001b[39;00m\n\u001b[1;32m      4\u001b[0m \u001b[38;5;124;03mParams\u001b[39;00m\n\u001b[0;32m   (...)\u001b[0m\n\u001b[1;32m     10\u001b[0m \u001b[38;5;124;03m    eps_decay (float): multiplicative factor (per episode) for decreasing epsilon\u001b[39;00m\n\u001b[1;32m     11\u001b[0m \u001b[38;5;124;03m\"\"\"\u001b[39;00m\n\u001b[1;32m     12\u001b[0m scores \u001b[38;5;241m=\u001b[39m []                        \u001b[38;5;66;03m# list containing scores from each episode\u001b[39;00m\n\u001b[0;32m---> 13\u001b[0m scores_window \u001b[38;5;241m=\u001b[39m \u001b[43mdeque\u001b[49m(maxlen\u001b[38;5;241m=\u001b[39m\u001b[38;5;241m100\u001b[39m)  \u001b[38;5;66;03m# last 100 scores\u001b[39;00m\n\u001b[1;32m     14\u001b[0m eps \u001b[38;5;241m=\u001b[39m eps_start                    \u001b[38;5;66;03m# initialize epsilon\u001b[39;00m\n\u001b[1;32m     17\u001b[0m \u001b[38;5;28;01mfor\u001b[39;00m i_episode \u001b[38;5;129;01min\u001b[39;00m \u001b[38;5;28mrange\u001b[39m(\u001b[38;5;241m1\u001b[39m, n_episodes\u001b[38;5;241m+\u001b[39m\u001b[38;5;241m1\u001b[39m): \u001b[38;5;66;03m# The training loop\u001b[39;00m\n",
      "\u001b[0;31mNameError\u001b[0m: name 'deque' is not defined"
     ]
    }
   ],
   "source": [
    "def dqn(n_episodes=2000, max_t=1000, eps_start=1.0, eps_end=0.01, eps_decay=0.995):\n",
    "    \"\"\"Deep Q-Learning.\n",
    "    \n",
    "    A class which handles the training process of Deep RL agent on envirmonet using the \n",
    "    Deep Q-Learning algorithem, it takes the params of training as an input and use it\n",
    "    to train the agent on the envirmonet\n",
    "    \n",
    "    \n",
    "    Params\n",
    "    ======\n",
    "        n_episodes (int): maximum number of training episodes\n",
    "        max_t (int): maximum number of timesteps per episode\n",
    "        eps_start (float): starting value of epsilon, for epsilon-greedy action selection\n",
    "        eps_end (float): minimum value of epsilon\n",
    "        eps_decay (float): multiplicative factor (per episode) for decreasing epsilon\n",
    "    \"\"\"\n",
    "    scores = []                        # list containing scores from each episode\n",
    "    scores_window = deque(maxlen=100)  # last 100 scores\n",
    "    eps = eps_start                    # initialize epsilon\n",
    "    \n",
    "    \n",
    "    for i_episode in range(1, n_episodes+1): # The training loop\n",
    "        env_info = env.reset(train_mode=True)[brain_name] # reset the environment\n",
    "        state = env_info.vector_observations[0] # Get the initial state\n",
    "        score = 0\n",
    "        for t in range(max_t): #loop till the maximum number of timesteps per episode is reached unless the episode is done\n",
    "            action = agent.act(state, eps) # the agent decides the action based on the current state \n",
    "            \n",
    "            env_info = env.step(action)[brain_name]   # Take the action\n",
    "            next_state = env_info.vector_observations[0]   # get the next state\n",
    "            reward = env_info.rewards[0]                   # get the reward\n",
    "            done = env_info.local_done[0]                  # see if episode has finished            \n",
    "\n",
    "            agent.step(state, action, reward, next_state, done) # The agent takes a step\n",
    "            state = next_state # Transtion into the next step\n",
    "            score += reward # Add the recent reward to the episode total reward\n",
    "            if done:\n",
    "                break \n",
    "        scores_window.append(score)       # save most recent score\n",
    "        scores.append(score)              # save most recent score\n",
    "        eps = max(eps_end, eps_decay*eps) # decrease epsilon\n",
    "        \n",
    "        # print the rolling statistics at each episode\n",
    "        print('\\rEpisode {}\\tAverage Score: {:.2f}'.format(i_episode, np.mean(scores_window)), end=\"\")\n",
    "        \n",
    "        # print the rolling statistics at each 100 episode\n",
    "        if i_episode % 100 == 0:\n",
    "            print('\\rEpisode {}\\tAverage Score: {:.2f}'.format(i_episode, np.mean(scores_window)))\n",
    "        \n",
    "        # If the rolling mean score for the last 100 episodes is equal to or higher then 13 then stop \n",
    "        if np.mean(scores_window)>=13:\n",
    "            print('\\nEnvironment solved in {:d} episodes!\\tAverage Score: {:.2f}'.format(i_episode-100, np.mean(scores_window)))\n",
    "            \n",
    "            # save the model \n",
    "            torch.save(agent.qnetwork_local.state_dict(), 'checkpoint.pth')\n",
    "            break\n",
    "    return scores\n",
    "\n",
    "scores = dqn() # Run the training process\n",
    "\n",
    "# plot the scores\n",
    "fig = plt.figure()\n",
    "ax = fig.add_subplot(111)\n",
    "plt.plot(np.arange(len(scores)), scores)\n",
    "plt.ylabel('Score')\n",
    "plt.xlabel('Episode #')\n",
    "plt.show()"
   ]
  },
  {
   "cell_type": "markdown",
   "metadata": {},
   "source": [
    "### Read the saved model params"
   ]
  },
  {
   "cell_type": "code",
   "execution_count": 6,
   "metadata": {},
   "outputs": [
    {
     "data": {
      "text/plain": [
       "<All keys matched successfully>"
      ]
     },
     "execution_count": 6,
     "metadata": {},
     "output_type": "execute_result"
    }
   ],
   "source": [
    "agent.qnetwork_local.load_state_dict(torch.load('checkpoint.pth'))"
   ]
  },
  {
   "cell_type": "code",
   "execution_count": 9,
   "metadata": {},
   "outputs": [
    {
     "data": {
      "text/plain": [
       "OrderedDict([('fc1.weight',\n",
       "              tensor([[-0.0733, -0.0181, -0.0848,  ..., -0.2404, -0.2173, -0.0324],\n",
       "                      [ 0.0978,  0.1036,  0.0579,  ..., -0.5613,  0.1737,  0.0561],\n",
       "                      [-0.1744,  0.2562,  0.0220,  ..., -0.0578, -0.0390, -0.0217],\n",
       "                      ...,\n",
       "                      [-0.0177,  0.0144,  0.0148,  ..., -0.6288,  0.0616,  0.0007],\n",
       "                      [ 0.1160, -0.0876,  0.0595,  ...,  0.0990,  0.0233, -0.0014],\n",
       "                      [-0.1378, -0.0875, -0.1198,  ...,  0.1393, -0.0582,  0.0144]],\n",
       "                     device='cuda:0')),\n",
       "             ('fc1.bias',\n",
       "              tensor([ 0.1233, -0.0730, -0.1338, -0.0518,  0.1255, -0.0376, -0.0178,  0.1052,\n",
       "                      -0.0266, -0.0979,  0.1033,  0.1414,  0.1965,  0.0907, -0.0566, -0.1024,\n",
       "                      -0.0036,  0.0507,  0.0396, -0.1949, -0.0411,  0.0072,  0.0518, -0.0953,\n",
       "                      -0.2042,  0.2429,  0.0094, -0.1099,  0.1299,  0.1372,  0.0229, -0.1358,\n",
       "                       0.2208,  0.0362, -0.1225,  0.1285, -0.0067,  0.0752, -0.0635, -0.1567,\n",
       "                      -0.1183, -0.0294, -0.0733,  0.1792, -0.0254, -0.1189, -0.0249, -0.1508,\n",
       "                      -0.1570,  0.0538, -0.1094,  0.1031, -0.0641, -0.0864, -0.1595, -0.0042,\n",
       "                       0.1093, -0.0539, -0.1545, -0.1726,  0.0237,  0.0185,  0.0437,  0.0562],\n",
       "                     device='cuda:0')),\n",
       "             ('fc2.weight',\n",
       "              tensor([[-0.1100,  0.1966,  0.0109,  ...,  0.2690, -0.0156, -0.1695],\n",
       "                      [ 0.0160,  0.1139, -0.1995,  ..., -0.1151,  0.0503, -0.0911],\n",
       "                      [-0.0808, -0.1065, -0.0324,  ..., -0.0475,  0.1102,  0.0765],\n",
       "                      ...,\n",
       "                      [ 0.1158,  0.1108,  0.2091,  ...,  0.1202, -0.5076, -0.0622],\n",
       "                      [-0.2296, -0.1340,  0.0160,  ...,  0.2007, -0.0912, -0.1314],\n",
       "                      [ 0.2564, -0.0044, -0.2211,  ..., -0.1584,  0.0371,  0.1918]],\n",
       "                     device='cuda:0')),\n",
       "             ('fc2.bias',\n",
       "              tensor([-0.0458, -0.0050,  0.1012,  0.1534,  0.1373, -0.1692, -0.1583,  0.0423,\n",
       "                       0.0179,  0.1025, -0.0805,  0.1365,  0.1068, -0.0304,  0.0012,  0.0770,\n",
       "                      -0.0015,  0.0016, -0.0582,  0.0351,  0.1180,  0.1853,  0.0026, -0.0864,\n",
       "                       0.0490, -0.0427,  0.1480, -0.0715, -0.1246,  0.1204,  0.1267, -0.0975,\n",
       "                      -0.0513,  0.0525, -0.0164, -0.0468, -0.1169, -0.1023,  0.1285,  0.0336,\n",
       "                      -0.1438,  0.0960,  0.0442,  0.0265, -0.0243, -0.0486, -0.0963, -0.0730,\n",
       "                      -0.0140, -0.0681, -0.0911,  0.1166, -0.0782, -0.0461, -0.0667, -0.0806,\n",
       "                      -0.1736, -0.0688, -0.0477,  0.0965,  0.1553,  0.0240,  0.0999, -0.1071],\n",
       "                     device='cuda:0')),\n",
       "             ('fc3.weight',\n",
       "              tensor([[-0.1577,  0.1519, -0.0765,  ...,  0.3112,  0.0607,  0.3090],\n",
       "                      [ 0.1239, -0.0019,  0.0142,  ..., -0.2573, -0.1790,  0.1171],\n",
       "                      [ 0.1617, -0.0057,  0.0838,  ...,  0.1700, -0.2227,  0.1808],\n",
       "                      ...,\n",
       "                      [-0.2458,  0.2203,  0.0165,  ..., -0.0417,  0.0272,  0.2697],\n",
       "                      [ 0.1942, -0.1711,  0.1012,  ..., -0.0561,  0.1127,  0.1259],\n",
       "                      [ 0.1291, -0.1756,  0.2315,  ...,  0.1800,  0.1069, -0.0513]],\n",
       "                     device='cuda:0')),\n",
       "             ('fc3.bias',\n",
       "              tensor([-0.1108,  0.1521,  0.0164, -0.1020, -0.2367,  0.0646, -0.3173,  0.1974,\n",
       "                      -0.1652,  0.3530,  0.3243, -0.0240,  0.2411, -0.0927, -0.0688,  0.0094,\n",
       "                      -0.1429,  0.0256, -0.0043,  0.3238,  0.2631,  0.0584, -0.0446,  0.0226,\n",
       "                      -0.3107, -0.0157, -0.0453,  0.0912, -0.0611,  0.2487, -0.0797, -0.0372,\n",
       "                      -0.0559,  0.1106,  0.2971, -0.0382, -0.1617,  0.1203,  0.0754, -0.0144,\n",
       "                       0.0150,  0.2381,  0.1139,  0.1286,  0.0899, -0.0925,  0.0254,  0.0666,\n",
       "                      -0.1279,  0.3060,  0.0710,  0.3021, -0.1373,  0.1045,  0.1761,  0.0426,\n",
       "                      -0.0394,  0.0063,  0.3728,  0.0061, -0.0857,  0.3419, -0.0962,  0.0465],\n",
       "                     device='cuda:0')),\n",
       "             ('fc4.weight',\n",
       "              tensor([[-0.1821,  0.1275,  0.0221,  0.1199, -0.2139, -0.1190, -0.2050,  0.0753,\n",
       "                        0.0689,  0.2502,  0.1510, -0.2762,  0.1212, -0.0867,  0.1090, -0.1205,\n",
       "                       -0.0402, -0.0804,  0.0831,  0.1374,  0.0820,  0.1086, -0.1938, -0.2265,\n",
       "                       -0.1899,  0.2714,  0.3103,  0.0446,  0.0228,  0.1670, -0.2711, -0.1407,\n",
       "                        0.0427, -0.2972,  0.1990,  0.2979, -0.0912,  0.0565,  0.1213,  0.0266,\n",
       "                       -0.2231,  0.1640, -0.3435, -0.4054,  0.4779,  0.1166, -0.4588,  0.2779,\n",
       "                       -0.0715,  0.2204,  0.2421,  0.2936,  0.0116, -0.0431,  0.3025, -0.0769,\n",
       "                        0.0741, -0.2372,  0.1363,  0.1618,  0.0525,  0.1586,  0.1638, -0.4442],\n",
       "                      [ 0.0205,  0.0763, -0.0138,  0.4339, -0.1984, -0.3036, -0.0490,  0.2261,\n",
       "                        0.0101,  0.0536,  0.2191,  0.0168,  0.0352,  0.2305, -0.2454,  0.1193,\n",
       "                        0.0260,  0.0492,  0.0206,  0.2047,  0.1180,  0.1361, -0.0128, -0.1253,\n",
       "                       -0.1880,  0.3591,  0.3609,  0.1594,  0.1929,  0.1369, -0.1627,  0.0776,\n",
       "                        0.1559, -0.1563,  0.0274,  0.2702, -0.0975,  0.0993,  0.1263,  0.2467,\n",
       "                        0.0967,  0.0375, -0.0010, -0.1722,  0.1609, -0.5063, -0.0785,  0.1955,\n",
       "                        0.0960,  0.0863,  0.1772,  0.3360,  0.0665,  0.1152,  0.1749,  0.0552,\n",
       "                        0.0441, -0.3083,  0.1197,  0.2385, -0.0949,  0.2334, -0.1050,  0.1015],\n",
       "                      [ 0.0748,  0.0623,  0.0777,  0.0617, -0.2706,  0.4889,  0.0416,  0.0173,\n",
       "                        0.1214,  0.1974,  0.1420,  0.1619,  0.1865,  0.0403, -0.2928, -0.1674,\n",
       "                       -0.0431,  0.0540,  0.2061,  0.1577,  0.1700,  0.0394, -0.1125, -0.2634,\n",
       "                       -0.4777, -0.1121, -0.0817,  0.0972, -0.2682,  0.1027, -0.2593, -0.2980,\n",
       "                        0.1130, -0.1915,  0.1641,  0.2280,  0.1800, -0.0907,  0.0693,  0.1434,\n",
       "                       -0.4935,  0.0345,  0.2317,  0.1177,  0.1402, -0.1187, -0.0637,  0.0084,\n",
       "                        0.0662,  0.0987,  0.2322,  0.4402,  0.0779,  0.3402,  0.3479,  0.2436,\n",
       "                        0.0575, -0.3349,  0.1238,  0.2292, -0.2878,  0.1328, -0.3149,  0.1461],\n",
       "                      [ 0.1351,  0.2883,  0.2620,  0.2674, -0.2770, -0.3450, -0.4871,  0.2604,\n",
       "                       -0.5060,  0.2334,  0.1644,  0.1098,  0.0185, -0.2864, -0.4399, -0.2837,\n",
       "                       -0.1112,  0.0731,  0.0099,  0.1129,  0.1598,  0.1586,  0.1173,  0.0629,\n",
       "                        0.0299,  0.6012, -0.1070,  0.1671, -0.1542,  0.0431, -0.0581,  0.3350,\n",
       "                       -0.1427,  0.2285,  0.2397,  0.0040, -0.0934, -0.0495,  0.0258,  0.1728,\n",
       "                       -0.1382,  0.1731, -0.2472,  0.2472,  0.1458, -0.2264,  0.2254,  0.2112,\n",
       "                        0.0825,  0.0923, -0.1065,  0.4089, -0.0017, -0.3810,  0.1323,  0.0791,\n",
       "                        0.0487, -0.1632,  0.1766,  0.2403,  0.1628,  0.1688,  0.1248, -0.2292]],\n",
       "                     device='cuda:0')),\n",
       "             ('fc4.bias',\n",
       "              tensor([0.1239, 0.1808, 0.2072, 0.0881], device='cuda:0'))])"
      ]
     },
     "execution_count": 9,
     "metadata": {},
     "output_type": "execute_result"
    }
   ],
   "source": [
    "agent.qnetwork_local.state_dict()"
   ]
  },
  {
   "cell_type": "code",
   "execution_count": null,
   "metadata": {},
   "outputs": [],
   "source": []
  }
 ],
 "metadata": {
  "kernelspec": {
   "display_name": "Python 3 (ipykernel)",
   "language": "python",
   "name": "python3"
  },
  "language_info": {
   "codemirror_mode": {
    "name": "ipython",
    "version": 3
   },
   "file_extension": ".py",
   "mimetype": "text/x-python",
   "name": "python",
   "nbconvert_exporter": "python",
   "pygments_lexer": "ipython3",
   "version": "3.10.11"
  }
 },
 "nbformat": 4,
 "nbformat_minor": 2
}
