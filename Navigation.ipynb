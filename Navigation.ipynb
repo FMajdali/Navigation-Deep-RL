{
 "cells": [
  {
   "cell_type": "markdown",
   "metadata": {},
   "source": [
    "# Setting Up - Install Packages in the Workspace\n",
    "Before you move on to the project instruction, follow the cells below to ensure you have the necessary packages installed. \n",
    "The cells below will also educate you on installing newer pinned packages, should you need them in the future. "
   ]
  },
  {
   "cell_type": "code",
   "execution_count": 1,
   "metadata": {},
   "outputs": [],
   "source": [
    "# Step 1. Update the PATH env var. \n",
    "import os\n",
    "os.environ['PATH'] = f\"{os.environ['PATH']}:/home/student/.local/bin\"\n",
    "os.environ['PATH'] = f\"{os.environ['PATH']}:/opt/conda/lib/python3.10/site-packages\"\n",
    "os.environ['PROTOCOL_BUFFERS_PYTHON_IMPLEMENTATION'] = 'python'"
   ]
  },
  {
   "cell_type": "code",
   "execution_count": 2,
   "metadata": {},
   "outputs": [
    {
     "name": "stdout",
     "output_type": "stream",
     "text": [
      "numpy @ file:///work/mkl/numpy_and_numpy_base_1682953417311/work\r\n"
     ]
    }
   ],
   "source": [
    "# Check the version of any specific package\n",
    "!python -m pip freeze | grep numpy"
   ]
  },
  {
   "cell_type": "markdown",
   "metadata": {},
   "source": [
    "# Navigation\n",
    "\n",
    "---\n",
    "\n",
    "You are welcome to use this coding environment to train your agent for the project.  Follow the instructions below to get started!\n",
    "\n",
    "### 1. Start the Environment\n",
    "\n",
    "Run the next code cell to install a few packages.  This line will take a few minutes to run!"
   ]
  },
  {
   "cell_type": "code",
   "execution_count": 3,
   "metadata": {},
   "outputs": [],
   "source": [
    "!pip -q install ."
   ]
  },
  {
   "cell_type": "markdown",
   "metadata": {},
   "source": [
    "The environment is already saved in the Workspace and can be accessed at the file path provided below.  Please run the next code cell without making any changes."
   ]
  },
  {
   "cell_type": "code",
   "execution_count": 1,
   "metadata": {},
   "outputs": [],
   "source": [
    "# Restart the Kernel. \n",
    "# If you skip this step, your notebook may not be able to import the packages well. \n"
   ]
  },
  {
   "cell_type": "code",
   "execution_count": 2,
   "metadata": {},
   "outputs": [
    {
     "name": "stdout",
     "output_type": "stream",
     "text": [
      "Found path: /data/Banana_Linux_NoVis/Banana.x86_64\n",
      "Mono path[0] = '/data/Banana_Linux_NoVis/Banana_Data/Managed'\n",
      "Mono config path = '/data/Banana_Linux_NoVis/Banana_Data/MonoBleedingEdge/etc'\n",
      "Preloaded 'libgrpc_csharp_ext.x64.so'\n",
      "Unable to preload the following plugins:\n",
      "\tlibgrpc_csharp_ext.x86.so\n",
      "PlayerPrefs - Creating folder: /home/student/.config/unity3d/Unity Technologies\n",
      "PlayerPrefs - Creating folder: /home/student/.config/unity3d/Unity Technologies/Unity Environment\n",
      "Logging to /home/student/.config/unity3d/Unity Technologies/Unity Environment/Player.log\n"
     ]
    },
    {
     "name": "stderr",
     "output_type": "stream",
     "text": [
      "INFO:unityagents:\n",
      "'Academy' started successfully!\n",
      "Unity Academy name: Academy\n",
      "        Number of Brains: 1\n",
      "        Number of External Brains : 1\n",
      "        Lesson number : 0\n",
      "        Reset Parameters :\n",
      "\t\t\n",
      "Unity brain name: BananaBrain\n",
      "        Number of Visual Observations (per agent): 0\n",
      "        Vector Observation space type: continuous\n",
      "        Vector Observation space size (per agent): 37\n",
      "        Number of stacked Vector Observation: 1\n",
      "        Vector Action space type: discrete\n",
      "        Vector Action space size (per agent): 4\n",
      "        Vector Action descriptions: , , , \n"
     ]
    }
   ],
   "source": [
    "from unityagents import UnityEnvironment\n",
    "import numpy as np\n",
    "\n",
    "# please do not modify the line below\n",
    "env = UnityEnvironment(file_name=\"/data/Banana_Linux_NoVis/Banana.x86_64\")"
   ]
  },
  {
   "cell_type": "markdown",
   "metadata": {},
   "source": [
    "Environments contain **_brains_** which are responsible for deciding the actions of their associated agents. Here we check for the first brain available, and set it as the default brain we will be controlling from Python."
   ]
  },
  {
   "cell_type": "code",
   "execution_count": 3,
   "metadata": {},
   "outputs": [],
   "source": [
    "# get the default brain\n",
    "brain_name = env.brain_names[0]\n",
    "brain = env.brains[brain_name]"
   ]
  },
  {
   "cell_type": "markdown",
   "metadata": {},
   "source": [
    "### 2. Examine the State and Action Spaces\n",
    "\n",
    "Run the code cell below to print some information about the environment."
   ]
  },
  {
   "cell_type": "code",
   "execution_count": 4,
   "metadata": {},
   "outputs": [
    {
     "name": "stdout",
     "output_type": "stream",
     "text": [
      "Number of agents: 1\n",
      "Number of actions: 4\n",
      "States look like: [1.         0.         0.         0.         0.84408134 0.\n",
      " 0.         1.         0.         0.0748472  0.         1.\n",
      " 0.         0.         0.25755    1.         0.         0.\n",
      " 0.         0.74177343 0.         1.         0.         0.\n",
      " 0.25854847 0.         0.         1.         0.         0.09355672\n",
      " 0.         1.         0.         0.         0.31969345 0.\n",
      " 0.        ]\n",
      "States have length: 37\n"
     ]
    }
   ],
   "source": [
    "# reset the environment\n",
    "env_info = env.reset(train_mode=True)[brain_name]\n",
    "\n",
    "# number of agents in the environment\n",
    "print('Number of agents:', len(env_info.agents))\n",
    "\n",
    "# number of actions\n",
    "action_size = brain.vector_action_space_size\n",
    "print('Number of actions:', action_size)\n",
    "\n",
    "# examine the state space \n",
    "state = env_info.vector_observations[0]\n",
    "print('States look like:', state)\n",
    "state_size = len(state)\n",
    "print('States have length:', state_size)"
   ]
  },
  {
   "cell_type": "markdown",
   "metadata": {},
   "source": [
    "### 3. Take Random Actions in the Environment\n",
    "\n",
    "In the next code cell, you will learn how to use the Python API to control the agent and receive feedback from the environment.\n",
    "\n",
    "Note that **in this coding environment, you will not be able to watch the agent while it is training**, and you should set `train_mode=True` to restart the environment."
   ]
  },
  {
   "cell_type": "code",
   "execution_count": 5,
   "metadata": {},
   "outputs": [
    {
     "name": "stdout",
     "output_type": "stream",
     "text": [
      "Score: 0.0\n"
     ]
    }
   ],
   "source": [
    "env_info = env.reset(train_mode=True)[brain_name] # reset the environment\n",
    "state = env_info.vector_observations[0]            # get the current state\n",
    "score = 0                                          # initialize the score\n",
    "while True:\n",
    "    action = np.random.randint(action_size)        # select an action\n",
    "    env_info = env.step(action)[brain_name]        # send the action to the environment\n",
    "    next_state = env_info.vector_observations[0]   # get the next state\n",
    "    reward = env_info.rewards[0]                   # get the reward\n",
    "    done = env_info.local_done[0]                  # see if episode has finished\n",
    "    score += reward                                # update the score\n",
    "    state = next_state                             # roll over the state to next time step\n",
    "    if done:                                       # exit loop if episode finished\n",
    "        break\n",
    "    \n",
    "print(\"Score: {}\".format(score))"
   ]
  },
  {
   "cell_type": "markdown",
   "metadata": {},
   "source": [
    "When finished, you can close the environment."
   ]
  },
  {
   "cell_type": "code",
   "execution_count": 6,
   "metadata": {},
   "outputs": [],
   "source": [
    "env.close()"
   ]
  },
  {
   "cell_type": "markdown",
   "metadata": {},
   "source": [
    "### 4. It's Your Turn!\n",
    "\n",
    "Now it's your turn to train your own agent to solve the environment!  A few **important notes**:\n",
    "- When training the environment, set `train_mode=True`, so that the line for resetting the environment looks like the following:\n",
    "```python\n",
    "env_info = env.reset(train_mode=True)[brain_name]\n",
    "```\n",
    "- To structure your work, you're welcome to work directly in this Jupyter notebook, or you might like to start over with a new file!  You can see the list of files in the workspace by clicking on **_Jupyter_** in the top left corner of the notebook.\n",
    "- In this coding environment, you will not be able to watch the agent while it is training.  However, **_after training the agent_**, you can download the saved model weights to watch the agent on your own machine! "
   ]
  },
  {
   "cell_type": "markdown",
   "metadata": {},
   "source": [
    "# Restart the kernal before running the below"
   ]
  },
  {
   "cell_type": "markdown",
   "metadata": {},
   "source": [
    "### Import libraries"
   ]
  },
  {
   "cell_type": "code",
   "execution_count": 1,
   "metadata": {},
   "outputs": [],
   "source": [
    "import random\n",
    "import torch\n",
    "import numpy as np\n",
    "from collections import deque\n",
    "import matplotlib.pyplot as plt\n",
    "import os\n",
    "import numpy as np\n",
    "%matplotlib inline\n",
    "\n",
    "\n",
    "from IPython import display"
   ]
  },
  {
   "cell_type": "markdown",
   "metadata": {},
   "source": [
    "### Import the agent class, the environment, and create instances of them"
   ]
  },
  {
   "cell_type": "code",
   "execution_count": 2,
   "metadata": {},
   "outputs": [
    {
     "name": "stdout",
     "output_type": "stream",
     "text": [
      "Found path: /data/Banana_Linux_NoVis/Banana.x86_64\n",
      "Mono path[0] = '/data/Banana_Linux_NoVis/Banana_Data/Managed'\n",
      "Mono config path = '/data/Banana_Linux_NoVis/Banana_Data/MonoBleedingEdge/etc'\n",
      "Preloaded 'libgrpc_csharp_ext.x64.so'\n",
      "Unable to preload the following plugins:\n",
      "\tlibgrpc_csharp_ext.x86.so\n",
      "Logging to /home/student/.config/unity3d/Unity Technologies/Unity Environment/Player.log\n"
     ]
    },
    {
     "name": "stderr",
     "output_type": "stream",
     "text": [
      "INFO:unityagents:\n",
      "'Academy' started successfully!\n",
      "Unity Academy name: Academy\n",
      "        Number of Brains: 1\n",
      "        Number of External Brains : 1\n",
      "        Lesson number : 0\n",
      "        Reset Parameters :\n",
      "\t\t\n",
      "Unity brain name: BananaBrain\n",
      "        Number of Visual Observations (per agent): 0\n",
      "        Vector Observation space type: continuous\n",
      "        Vector Observation space size (per agent): 37\n",
      "        Number of stacked Vector Observation: 1\n",
      "        Vector Action space type: discrete\n",
      "        Vector Action space size (per agent): 4\n",
      "        Vector Action descriptions: , , , \n"
     ]
    }
   ],
   "source": [
    "from dqn_agent import Agent # Import the agent class\n",
    "from unityagents import UnityEnvironment # Import the environment\n",
    "\n",
    "# create the enviroment\n",
    "env = UnityEnvironment(file_name=\"/data/Banana_Linux_NoVis/Banana.x86_64\")\n",
    "\n",
    "# get the default brain\n",
    "brain_name = env.brain_names[0]\n",
    "brain = env.brains[brain_name]\n",
    "\n",
    "# reset the environment\n",
    "env_info = env.reset(train_mode=True)[brain_name]\n",
    "\n",
    "# Number of actions\n",
    "action_size = brain.vector_action_space_size\n",
    "# Number of dimensions in state\n",
    "state_size = len(env_info.vector_observations[0])\n",
    "\n",
    "# create an instance of the environment\n",
    "agent = Agent(state_size=state_size, action_size=action_size, seed=0)"
   ]
  },
  {
   "cell_type": "code",
   "execution_count": 3,
   "metadata": {},
   "outputs": [
    {
     "name": "stdout",
     "output_type": "stream",
     "text": [
      "Episode 100\tAverage Score: 0.71\n",
      "Episode 200\tAverage Score: 3.19\n",
      "Episode 300\tAverage Score: 7.21\n",
      "Episode 400\tAverage Score: 10.12\n",
      "Episode 480\tAverage Score: 13.02\n",
      "Environment solved in 380 episodes!\tAverage Score: 13.02\n"
     ]
    },
    {
     "data": {
      "image/png": "[encoded data removed]",
      "text/plain": [
       "<Figure size 640x480 with 1 Axes>"
      ]
     },
     "metadata": {},
     "output_type": "display_data"
    }
   ],
   "source": [
    "def dqn(n_episodes=2000, max_t=1000, eps_start=1.0, eps_end=0.01, eps_decay=0.995):\n",
    "    \"\"\"Deep Q-Learning.\n",
    "    \n",
    "    A class which handles the training process of Deep RL agent on envirmonet using the \n",
    "    Deep Q-Learning algorithem, it takes the params of training as an input and use it\n",
    "    to train the agent on the envirmonet\n",
    "    \n",
    "    \n",
    "    Params\n",
    "    ======\n",
    "        n_episodes (int): maximum number of training episodes\n",
    "        max_t (int): maximum number of timesteps per episode\n",
    "        eps_start (float): starting value of epsilon, for epsilon-greedy action selection\n",
    "        eps_end (float): minimum value of epsilon\n",
    "        eps_decay (float): multiplicative factor (per episode) for decreasing epsilon\n",
    "    \"\"\"\n",
    "    scores = []                        # list containing scores from each episode\n",
    "    scores_window = deque(maxlen=100)  # last 100 scores\n",
    "    eps = eps_start                    # initialize epsilon\n",
    "    \n",
    "    \n",
    "    for i_episode in range(1, n_episodes+1): # The training loop\n",
    "        env_info = env.reset(train_mode=True)[brain_name] # reset the environment\n",
    "        state = env_info.vector_observations[0] # Get the initial state\n",
    "        score = 0\n",
    "        for t in range(max_t): #loop till the maximum number of timesteps per episode is reached unless the episode is done\n",
    "            action = agent.act(state, eps) # the agent decides the action based on the current state \n",
    "            \n",
    "            env_info = env.step(action)[brain_name]   # Take the action\n",
    "            next_state = env_info.vector_observations[0]   # get the next state\n",
    "            reward = env_info.rewards[0]                   # get the reward\n",
    "            done = env_info.local_done[0]                  # see if episode has finished            \n",
    "\n",
    "            agent.step(state, action, reward, next_state, done) # The agent takes a step\n",
    "            state = next_state # Transtion into the next step\n",
    "            score += reward # Add the recent reward to the episode total reward\n",
    "            if done:\n",
    "                break \n",
    "        scores_window.append(score)       # save most recent score\n",
    "        scores.append(score)              # save most recent score\n",
    "        eps = max(eps_end, eps_decay*eps) # decrease epsilon\n",
    "        \n",
    "        # print the rolling statistics at each episode\n",
    "        print('\\rEpisode {}\\tAverage Score: {:.2f}'.format(i_episode, np.mean(scores_window)), end=\"\")\n",
    "        \n",
    "        # print the rolling statistics at each 100 episode\n",
    "        if i_episode % 100 == 0:\n",
    "            print('\\rEpisode {}\\tAverage Score: {:.2f}'.format(i_episode, np.mean(scores_window)))\n",
    "        \n",
    "        # If the rolling mean score for the last 100 episodes is equal to or higher then 13 then stop \n",
    "        if np.mean(scores_window)>=13:\n",
    "            print('\\nEnvironment solved in {:d} episodes!\\tAverage Score: {:.2f}'.format(i_episode-100, np.mean(scores_window)))\n",
    "            \n",
    "            # save the model \n",
    "            torch.save(agent.qnetwork_local.state_dict(), 'checkpoint.pth')\n",
    "            break\n",
    "    return scores\n",
    "\n",
    "scores = dqn() # Run the training process\n",
    "\n",
    "# plot the scores\n",
    "fig = plt.figure()\n",
    "ax = fig.add_subplot(111)\n",
    "plt.plot(np.arange(len(scores)), scores)\n",
    "plt.ylabel('Score')\n",
    "plt.xlabel('Episode #')\n",
    "plt.show()"
   ]
  },
  {
   "cell_type": "markdown",
   "metadata": {},
   "source": [
    "### Read the saved model params"
   ]
  },
  {
   "cell_type": "code",
   "execution_count": 4,
   "metadata": {},
   "outputs": [
    {
     "data": {
      "text/plain": [
       "<All keys matched successfully>"
      ]
     },
     "execution_count": 4,
     "metadata": {},
     "output_type": "execute_result"
    }
   ],
   "source": [
    "agent.qnetwork_local.load_state_dict(torch.load('checkpoint.pth'))"
   ]
  },
  {
   "cell_type": "code",
   "execution_count": 5,
   "metadata": {},
   "outputs": [
    {
     "data": {
      "text/plain": [
       "OrderedDict([('fc1.weight',\n",
       "              tensor([[ 0.1920, -0.0869, -0.1676,  ..., -0.7109, -0.0592, -0.0401],\n",
       "                      [ 0.2032, -0.1661, -0.0963,  ..., -0.3712,  0.2945,  0.0451],\n",
       "                      [ 0.0114,  0.1488,  0.0562,  ...,  0.0624, -0.0941, -0.0180],\n",
       "                      ...,\n",
       "                      [-0.0403,  0.0254,  0.1606,  ...,  0.1456,  0.0394,  0.0034],\n",
       "                      [ 0.0202, -0.2155,  0.1869,  ...,  0.3603,  0.0215, -0.0046],\n",
       "                      [-0.0331, -0.1000, -0.1335,  ...,  0.0128, -0.0211,  0.0126]],\n",
       "                     device='cuda:0')),\n",
       "             ('fc1.bias',\n",
       "              tensor([ 0.1643, -0.0955, -0.1330, -0.0458,  0.0992,  0.0212, -0.1927,  0.0521,\n",
       "                      -0.0436, -0.1466,  0.1580,  0.1190,  0.1217,  0.0755, -0.0114, -0.0805,\n",
       "                       0.1012, -0.0370, -0.0062, -0.2390, -0.0623,  0.1028, -0.0324, -0.0287,\n",
       "                      -0.0833,  0.0893,  0.0318, -0.1708,  0.1839,  0.0665, -0.1131, -0.1295,\n",
       "                       0.1765, -0.0633, -0.0754,  0.0634, -0.0117,  0.0078,  0.0905, -0.1235,\n",
       "                      -0.0555, -0.0298, -0.0755,  0.1862, -0.0324, -0.0862, -0.0040, -0.2443,\n",
       "                      -0.1581,  0.0952, -0.0772,  0.1166, -0.1121, -0.0583, -0.2036, -0.0166,\n",
       "                       0.1004, -0.0611, -0.0945, -0.1733,  0.0351,  0.1189,  0.0153,  0.0582],\n",
       "                     device='cuda:0')),\n",
       "             ('fc2.weight',\n",
       "              tensor([[ 0.0220, -0.0941,  0.1214,  ...,  0.1112, -0.3321, -0.0036],\n",
       "                      [ 0.0305,  0.1911, -0.0113,  ...,  0.2407, -0.0083, -0.0013],\n",
       "                      [-0.1621, -0.3296,  0.0363,  ..., -0.0533,  0.1909,  0.0130],\n",
       "                      ...,\n",
       "                      [-0.0942, -0.1180,  0.1973,  ...,  0.0233, -0.0907, -0.1876],\n",
       "                      [ 0.1028, -0.1670, -0.0745,  ...,  0.0311, -0.2223, -0.1636],\n",
       "                      [ 0.0971, -0.0199, -0.2455,  ...,  0.1134, -0.1905, -0.0499]],\n",
       "                     device='cuda:0')),\n",
       "             ('fc2.bias',\n",
       "              tensor([-0.0350,  0.0136,  0.0877,  0.0621,  0.1676, -0.1348, -0.1182,  0.0907,\n",
       "                       0.1190,  0.1679,  0.0377,  0.1060,  0.0346, -0.0993, -0.0928,  0.1653,\n",
       "                      -0.0888, -0.0471, -0.0503, -0.0369,  0.1179,  0.1921, -0.0387, -0.1166,\n",
       "                      -0.0442,  0.0193,  0.0305, -0.0885, -0.0766,  0.0386,  0.1227, -0.0713,\n",
       "                       0.0080,  0.0400, -0.0794, -0.0374, -0.0677, -0.0985,  0.0062, -0.1762,\n",
       "                      -0.1542,  0.0603,  0.0572, -0.0074, -0.0016, -0.0494, -0.0782, -0.1361,\n",
       "                       0.0916, -0.1090, -0.1230,  0.2036, -0.0785, -0.0844, -0.0765, -0.1546,\n",
       "                      -0.1357, -0.0744,  0.0154,  0.1302,  0.1172,  0.0513,  0.0174, -0.1979],\n",
       "                     device='cuda:0')),\n",
       "             ('fc3.weight',\n",
       "              tensor([[ 0.1469,  0.1227,  0.1407,  ...,  0.2584, -0.1792, -0.2356],\n",
       "                      [ 0.2029,  0.0576,  0.1735,  ..., -0.0646,  0.2040,  0.1233],\n",
       "                      [-0.1859, -0.1886,  0.2517,  ..., -0.2621,  0.1494, -0.0184],\n",
       "                      ...,\n",
       "                      [ 0.1627,  0.2541,  0.1447,  ..., -0.0289,  0.2355,  0.1472],\n",
       "                      [ 0.1209, -0.1972, -0.0966,  ...,  0.0954, -0.0042, -0.0518],\n",
       "                      [ 0.1904, -0.0307,  0.1454,  ...,  0.0875,  0.0857,  0.1096]],\n",
       "                     device='cuda:0')),\n",
       "             ('fc3.bias',\n",
       "              tensor([-0.0005, -0.0769, -0.0704,  0.0327, -0.0582,  0.1436, -0.0899,  0.1005,\n",
       "                      -0.0945,  0.3013,  0.3523, -0.1196,  0.1497,  0.0263, -0.0843, -0.0940,\n",
       "                      -0.1521,  0.1124,  0.0621,  0.3119,  0.2509,  0.2036,  0.2270,  0.0792,\n",
       "                      -0.3099,  0.1218, -0.0038,  0.1206,  0.0562,  0.2628, -0.1367, -0.2747,\n",
       "                      -0.1561,  0.0738,  0.3054,  0.0152, -0.2178,  0.1412,  0.1062,  0.0109,\n",
       "                      -0.1096,  0.0422, -0.0055,  0.0151, -0.0756, -0.0573, -0.0507, -0.0652,\n",
       "                      -0.0488,  0.3082, -0.0218,  0.1681, -0.0394, -0.0446,  0.1460,  0.0817,\n",
       "                       0.0397, -0.1388,  0.3477, -0.0770, -0.2293,  0.1439, -0.0989, -0.2283],\n",
       "                     device='cuda:0')),\n",
       "             ('fc4.weight',\n",
       "              tensor([[ 5.5025e-02, -1.9736e-01,  3.6701e-03,  2.4389e-03, -7.1406e-02,\n",
       "                        2.1404e-01, -1.7354e-02,  6.3560e-03,  2.8934e-01,  1.8416e-01,\n",
       "                        1.8888e-01,  1.2079e-02,  1.1953e-01,  3.3758e-01,  5.4935e-02,\n",
       "                       -1.0306e-01,  2.5491e-02,  9.0681e-02,  1.8467e-01,  1.0163e-01,\n",
       "                        7.4503e-02,  1.2116e-01,  1.3121e-01,  3.7037e-01, -2.9218e-01,\n",
       "                        8.0912e-02,  3.5844e-01,  3.9731e-01, -1.0929e-02,  2.0180e-01,\n",
       "                       -3.2777e-01, -6.7996e-02,  8.9877e-02, -4.0916e-01,  2.0306e-01,\n",
       "                        2.2403e-01, -1.4357e-01,  6.3642e-02,  1.5391e-01,  3.2016e-01,\n",
       "                       -5.7114e-02,  9.3555e-02, -7.3428e-02,  7.8810e-02, -1.5463e-01,\n",
       "                        4.6081e-04,  3.1366e-02, -1.4822e-02,  1.7504e-02,  2.3634e-01,\n",
       "                        1.3484e-02,  1.6891e-02, -3.5759e-01,  8.9793e-03,  1.1674e-01,\n",
       "                        2.6130e-02,  4.7308e-01, -1.4969e-01,  1.2140e-01, -8.0554e-02,\n",
       "                       -9.4860e-02,  2.4797e-01,  7.9700e-02, -2.7057e-01],\n",
       "                      [ 3.2683e-01, -1.4618e-02, -2.1361e-01,  1.7630e-01, -4.9822e-02,\n",
       "                        3.1443e-02,  1.5420e-01,  3.2466e-01, -2.9925e-01,  8.1230e-03,\n",
       "                        2.8129e-01, -2.0284e-02,  1.5826e-01,  2.7389e-01, -1.0806e-01,\n",
       "                        7.9902e-02,  2.9081e-01,  2.5363e-01,  3.7902e-02,  1.5564e-01,\n",
       "                        1.1777e-01,  1.6823e-02,  1.9824e-01,  3.0441e-01, -2.8440e-01,\n",
       "                        8.2172e-03,  3.0737e-01,  1.6170e-01,  2.5055e-01,  2.0478e-01,\n",
       "                       -1.7179e-01, -8.5740e-02,  3.0557e-01, -1.3483e-01,  2.7618e-02,\n",
       "                        1.8086e-01, -2.5690e-01,  2.4904e-01,  2.2057e-01,  2.3504e-01,\n",
       "                        3.3923e-01, -2.6100e-01, -5.9752e-02,  9.3644e-02, -8.3517e-02,\n",
       "                       -8.1060e-02,  3.5424e-01, -3.1141e-01,  1.3727e-01,  2.2473e-02,\n",
       "                       -3.8678e-02,  2.5550e-01,  3.1571e-01, -1.5238e-02,  1.7949e-01,\n",
       "                        2.4785e-02,  1.4410e-01, -7.3653e-02,  1.0369e-01, -1.6987e-03,\n",
       "                       -2.8868e-01,  2.4508e-01, -9.7732e-02, -1.8504e-01],\n",
       "                      [ 4.2504e-01, -1.5152e-01,  3.5377e-01,  1.2874e-01, -1.3429e-01,\n",
       "                       -7.7507e-02, -1.6539e-01, -2.9479e-02, -2.6740e-01,  1.9177e-01,\n",
       "                        2.0741e-01,  1.7138e-01,  3.4265e-01,  1.9932e-01,  1.8874e-01,\n",
       "                        1.1646e-01, -4.0740e-01,  2.7324e-01,  1.7262e-01,  1.8523e-01,\n",
       "                        1.6688e-01, -1.9288e-02, -9.6680e-03,  3.0348e-01, -3.6873e-01,\n",
       "                        2.6163e-01, -2.6249e-01, -7.1056e-02, -2.9672e-02,  1.2720e-01,\n",
       "                       -2.8691e-01, -2.7864e-02,  1.4467e-01, -2.6072e-01,  1.6063e-01,\n",
       "                        1.4846e-01,  4.1957e-02,  7.1976e-03, -5.9749e-02, -5.1383e-02,\n",
       "                       -2.8073e-01, -2.6723e-01,  1.6661e-02,  3.1181e-01, -1.3448e-01,\n",
       "                        2.9653e-01, -1.2246e-01, -2.3056e-01,  9.0778e-03,  1.6758e-01,\n",
       "                       -1.2234e-01,  1.6784e-01, -1.6930e-01,  9.5060e-02,  1.1303e-01,\n",
       "                        1.6329e-01,  2.7360e-01,  7.6729e-02,  1.1289e-01,  3.6467e-02,\n",
       "                       -2.7562e-01,  9.7431e-02, -2.4474e-01,  1.0513e-01],\n",
       "                      [-7.2341e-03, -2.6434e-02,  3.4409e-01,  1.1788e-01, -8.4211e-02,\n",
       "                        5.3767e-02, -3.6485e-01,  3.4674e-01, -3.1562e-02,  1.8572e-01,\n",
       "                        1.6559e-01,  7.9951e-02,  1.1849e-01, -7.5014e-02, -2.6998e-01,\n",
       "                       -1.3165e-01, -7.2811e-02,  5.9516e-02,  1.3996e-01,  1.2593e-01,\n",
       "                        1.6078e-01,  2.1342e-01,  1.4247e-01, -1.2652e-01, -2.7526e-02,\n",
       "                        1.9910e-01, -7.5066e-02,  2.2045e-01,  1.3170e-01,  7.1887e-02,\n",
       "                       -1.7649e-01, -1.6595e-01, -7.7708e-02, -3.3924e-01,  1.3633e-01,\n",
       "                        4.7547e-04, -6.4441e-02,  7.2537e-02,  3.3505e-02,  3.2212e-01,\n",
       "                        3.4798e-01,  4.0958e-02, -4.3569e-02,  3.1127e-01, -2.1848e-01,\n",
       "                        2.0115e-01,  2.8598e-02,  4.4869e-02,  3.6614e-01,  1.0739e-01,\n",
       "                       -2.5886e-02,  1.7271e-01, -8.9375e-02, -5.6057e-02, -4.7999e-02,\n",
       "                        3.3415e-01,  1.7972e-01, -3.3221e-01,  1.9279e-01,  4.4962e-02,\n",
       "                       -1.6117e-01,  1.6003e-01, -1.9955e-01, -4.6320e-01]], device='cuda:0')),\n",
       "             ('fc4.bias',\n",
       "              tensor([0.1196, 0.1463, 0.1708, 0.1274], device='cuda:0'))])"
      ]
     },
     "execution_count": 5,
     "metadata": {},
     "output_type": "execute_result"
    }
   ],
   "source": [
    "agent.qnetwork_local.state_dict()"
   ]
  },
  {
   "cell_type": "code",
   "execution_count": null,
   "metadata": {},
   "outputs": [],
   "source": []
  }
 ],
 "metadata": {
  "kernelspec": {
   "display_name": "Python 3 (ipykernel)",
   "language": "python",
   "name": "python3"
  },
  "language_info": {
   "codemirror_mode": {
    "name": "ipython",
    "version": 3
   },
   "file_extension": ".py",
   "mimetype": "text/x-python",
   "name": "python",
   "nbconvert_exporter": "python",
   "pygments_lexer": "ipython3",
   "version": "3.10.11"
  }
 },
 "nbformat": 4,
 "nbformat_minor": 2
}
